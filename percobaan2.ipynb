{
  "cells": [
    {
      "cell_type": "markdown",
      "metadata": {
        "id": "view-in-github",
        "colab_type": "text"
      },
      "source": [
        "<a href=\"https://colab.research.google.com/github/evanurulpadilah/Tugas-UAS-_-PengolahanCitraDigital/blob/main/percobaan2.ipynb\" target=\"_parent\"><img src=\"https://colab.research.google.com/assets/colab-badge.svg\" alt=\"Open In Colab\"/></a>"
      ]
    },
    {
      "cell_type": "markdown",
      "metadata": {
        "id": "dfb690e2"
      },
      "source": [
        "**import dataset melalui kaggle input**"
      ],
      "id": "dfb690e2"
    },
    {
      "cell_type": "code",
      "execution_count": 1,
      "metadata": {
        "id": "6fb3c4f4"
      },
      "outputs": [],
      "source": [
        "# This Python 3 environment comes with many helpful analytics libraries installed\n",
        "# It is defined by the kaggle/python Docker image: https://github.com/kaggle/docker-python\n",
        "# For example, here's several helpful packages to load\n",
        "\n",
        "import numpy as np # linear algebra\n",
        "import pandas as pd # data processing, CSV file I/O (e.g. pd.read_csv)\n",
        "\n",
        "# Input data files are available in the read-only \"../input/\" directory\n",
        "# For example, running this (by clicking run or pressing Shift+Enter) will list all files under the input directory\n",
        "\n",
        "import os\n",
        "for dirname, _, filenames in os.walk('/kaggle/input'):\n",
        "    for filename in filenames:\n",
        "        print(os.path.join(dirname, filename))\n",
        "\n",
        "# You can write up to 20GB to the current directory (/kaggle/working/) that gets preserved as output when you create a version using \"Save & Run All\" \n",
        "# You can also write temporary files to /kaggle/temp/, but they won't be saved outside of the current session"
      ],
      "id": "6fb3c4f4"
    },
    {
      "cell_type": "code",
      "execution_count": 2,
      "metadata": {
        "id": "7B5vwxdDkWgW"
      },
      "outputs": [],
      "source": [
        "!pip install -q kaggle"
      ],
      "id": "7B5vwxdDkWgW"
    },
    {
      "cell_type": "code",
      "execution_count": 3,
      "metadata": {
        "id": "On-4yBTPkh-b"
      },
      "outputs": [],
      "source": [
        "!mkdir ~/.kaggle"
      ],
      "id": "On-4yBTPkh-b"
    },
    {
      "cell_type": "code",
      "execution_count": 4,
      "metadata": {
        "id": "gKbkX5ZtlOlL"
      },
      "outputs": [],
      "source": [
        "!cp kaggle.json ~/.kaggle"
      ],
      "id": "gKbkX5ZtlOlL"
    },
    {
      "cell_type": "code",
      "execution_count": 5,
      "metadata": {
        "id": "QKFUUT9imDbJ"
      },
      "outputs": [],
      "source": [
        "!chmod 600 ~/.kaggle/kaggle.json"
      ],
      "id": "QKFUUT9imDbJ"
    },
    {
      "cell_type": "code",
      "execution_count": 6,
      "metadata": {
        "colab": {
          "base_uri": "https://localhost:8080/"
        },
        "id": "H2b3EpuRmYOn",
        "outputId": "2558f1c7-4492-4369-d80e-dc77f107905a"
      },
      "outputs": [
        {
          "output_type": "stream",
          "name": "stdout",
          "text": [
            "ref                                                             title                                              size  lastUpdated          downloadCount  voteCount  usabilityRating  \n",
            "--------------------------------------------------------------  ------------------------------------------------  -----  -------------------  -------------  ---------  ---------------  \n",
            "ahsan81/hotel-reservations-classification-dataset               Hotel Reservations Dataset                        480KB  2023-01-04 12:50:31           5071        178  1.0              \n",
            "senapatirajesh/netflix-tv-shows-and-movies                      Latest Netflix TV shows and movies                  1MB  2023-01-14 17:03:12           1506         47  0.9411765        \n",
            "johnny1994/divorce-rates-data-should-you-get-married            Divorce Rates Data: Should You Get Married?        22KB  2023-01-15 12:49:06            844         31  0.88235295       \n",
            "rakkesharv/spotify-top-10000-streamed-songs                     Spotify Top 10000 Streamed Songs                  280KB  2023-01-02 08:17:15           2203         66  1.0              \n",
            "die9origephit/fifa-world-cup-2022-complete-dataset              Fifa World Cup 2022: Complete Dataset               7KB  2022-12-18 22:51:11           7442        227  1.0              \n",
            "themrityunjaypathak/imdb-top-100-movies                         IMDb Top 100 Movies                                 4KB  2023-01-11 17:15:09           1261         41  1.0              \n",
            "thedevastator/tesla-accident-fatalities-analysis-and-statistic  Tesla Deaths                                       18KB  2023-01-02 23:34:23           1131         30  0.9411765        \n",
            "rishikeshkonapure/home-loan-approval                            Home Loan Approval                                 13KB  2023-01-12 06:28:57           1416         36  1.0              \n",
            "ayushnitb/starcraft-players-dataset                             Starcraft Players Dataset - Gamers Analytics      205KB  2023-01-18 23:14:29            227         29  1.0              \n",
            "ruddygunawan/per-capita-income-by-county-2021-vs-education      Per Capita Income by County (2021) vs. Education   89KB  2022-12-28 14:37:42           1455         31  1.0              \n",
            "nguyenthicamlai/population-2022                                 Word Population (1955-2020)                       121KB  2023-01-20 12:01:55            726         35  0.7647059        \n",
            "schmoyote/coffee-reviews-dataset                                Coffee Reviews Dataset                            569KB  2023-01-19 02:25:42            737         26  1.0              \n",
            "thedevastator/state-ut-wise-road-accidents-due-to-driver-viola  Road Accidents due to Driver Violations (India)     2KB  2023-01-06 14:29:20            820         33  1.0              \n",
            "thedevastator/global-fossil-co2-emissions-by-country-2002-2022  Emissions by Country                                2MB  2023-01-24 04:24:10           2252         72  1.0              \n",
            "sudhanshuy17/mobilephone                                        MobilePhone's Dataset                             876KB  2023-01-20 14:24:37            952         33  0.88235295       \n",
            "thedevastator/physical-strength-correlation-with-fear-related   Physical Strength & Fear-Related Personality       27KB  2023-01-24 04:33:10            461         23  1.0              \n",
            "omkargowda/suicide-rates-overview-1985-to-2021                  Suicide Rates Overview (1985 to 2021)             539KB  2023-01-04 15:11:45           1533         64  1.0              \n",
            "gan2gan/1000-imdb-movies-20062016                               1000 IMDB movies (2006-2016)                      134KB  2023-01-17 12:32:25            605         30  1.0              \n",
            "arbazmohammad/world-airports-and-airlines-datasets              Worlds Airports and Airlines Datasets             769KB  2023-01-11 07:39:19            618         30  1.0              \n",
            "ahsan81/used-handheld-device-data                               Used Phones & Tablets Pricing Dataset              77KB  2023-01-07 16:47:53            695         26  1.0              \n"
          ]
        }
      ],
      "source": [
        "!kaggle datasets list"
      ],
      "id": "H2b3EpuRmYOn"
    },
    {
      "cell_type": "code",
      "execution_count": 7,
      "metadata": {
        "colab": {
          "base_uri": "https://localhost:8080/"
        },
        "id": "V4yoLKQkoZxo",
        "outputId": "9ceffbce-17a1-46b6-c3d7-8cfd8b660ef0"
      },
      "outputs": [
        {
          "output_type": "stream",
          "name": "stdout",
          "text": [
            "Downloading dataset-tanaman-herbal.zip to /content\n",
            "100% 3.35G/3.35G [02:30<00:00, 24.4MB/s]\n",
            "100% 3.35G/3.35G [02:30<00:00, 24.0MB/s]\n"
          ]
        }
      ],
      "source": [
        "!kaggle datasets download -d \"anefiamutiaraatha/dataset-tanaman-herbal\""
      ],
      "id": "V4yoLKQkoZxo"
    },
    {
      "cell_type": "code",
      "execution_count": 8,
      "metadata": {
        "id": "HIoITzMApLZs"
      },
      "outputs": [],
      "source": [
        "import zipfile"
      ],
      "id": "HIoITzMApLZs"
    },
    {
      "cell_type": "code",
      "execution_count": 9,
      "metadata": {
        "id": "n6aj1h9PpX-E"
      },
      "outputs": [],
      "source": [
        "dataset_zip = zipfile.ZipFile('dataset-tanaman-herbal.zip','r')\n",
        "dataset_zip.extractall()\n",
        "dataset_zip.close()"
      ],
      "id": "n6aj1h9PpX-E"
    },
    {
      "cell_type": "markdown",
      "metadata": {
        "id": "c81c58fb"
      },
      "source": [
        "**import modul yang akan digunakan**"
      ],
      "id": "c81c58fb"
    },
    {
      "cell_type": "code",
      "execution_count": 10,
      "metadata": {
        "id": "5d6ad42a"
      },
      "outputs": [],
      "source": [
        "# Ignore  the warnings\n",
        "import warnings\n",
        "warnings.filterwarnings('always')\n",
        "warnings.filterwarnings('ignore')\n",
        "\n",
        "# data visualisation and manipulation\n",
        "import numpy as np\n",
        "import pandas as pd\n",
        "import matplotlib.pyplot as plt\n",
        "from matplotlib import style\n",
        "import seaborn as sns\n",
        " \n",
        "#configure\n",
        "# sets matplotlib to inline and displays graphs below the corressponding cell.\n",
        "%matplotlib inline  \n",
        "style.use('fivethirtyeight')\n",
        "sns.set(style='whitegrid',color_codes=True)\n",
        "\n",
        "#model selection\n",
        "from sklearn.model_selection import train_test_split\n",
        "from sklearn.model_selection import KFold\n",
        "from sklearn.metrics import accuracy_score,precision_score,recall_score,confusion_matrix,classification_report,roc_curve,roc_auc_score\n",
        "from sklearn.model_selection import GridSearchCV\n",
        "from sklearn.preprocessing import LabelEncoder\n",
        "\n",
        "#preprocess.\n",
        "from keras.preprocessing.image import ImageDataGenerator\n",
        "\n",
        "#dl libraraies\n",
        "from keras import backend as K\n",
        "from keras.models import Sequential\n",
        "from keras.layers import Dense\n",
        "from tensorflow.keras.optimizers import Adam,SGD,Adagrad,Adadelta,RMSprop\n",
        "from tensorflow.keras.utils import to_categorical\n",
        "\n",
        "# specifically for cnn\n",
        "from keras.layers import Dropout, Flatten,Activation\n",
        "from keras.layers import Conv2D, MaxPooling2D, BatchNormalization\n",
        " \n",
        "import tensorflow as tf\n",
        "import random as rn\n",
        "\n",
        "# specifically for manipulating zipped images and getting numpy arrays of pixel values of images.\n",
        "import cv2                  \n",
        "import numpy as np  \n",
        "from tqdm import tqdm\n",
        "import os                   \n",
        "from random import shuffle  \n",
        "from zipfile import ZipFile\n",
        "from PIL import Image\n",
        "import itertools"
      ],
      "id": "5d6ad42a"
    },
    {
      "cell_type": "markdown",
      "metadata": {
        "id": "6ee3ede4"
      },
      "source": [
        "**mendeklarasikan path pada setiap data gambar yang akan digunakan**"
      ],
      "id": "6ee3ede4"
    },
    {
      "cell_type": "code",
      "execution_count": 11,
      "metadata": {
        "id": "ddd72a9c"
      },
      "outputs": [],
      "source": [
        "X=[]\n",
        "Z=[]\n",
        "IMG_SIZE=224\n",
        "Daun_Jambu_Biji='DATASET TANAMAN HERBAL/Data Training/Daun Jambu Biji'\n",
        "Daun_Kari='DATASET TANAMAN HERBAL/Data Training/Daun Kari'\n",
        "Daun_Kemangi='DATASET TANAMAN HERBAL/Data Training/Daun Kemangi'\n",
        "Daun_Kunyit='DATASET TANAMAN HERBAL/Data Training/Daun Kunyit'\n",
        "Daun_Mint='DATASET TANAMAN HERBAL/Data Training/Daun Mint'\n",
        "Daun_Pepaya='DATASET TANAMAN HERBAL/Data Training/Daun Pepaya'\n",
        "Daun_Sirih='DATASET TANAMAN HERBAL/Data Training/Daun Sirih'\n",
        "Daun_Sirsak='DATASET TANAMAN HERBAL/Data Training/Daun Sirsak'\n",
        "Lidah_Buaya='DATASET TANAMAN HERBAL/Data Training/Lidah Buaya'\n",
        "Teh_Hijau='DATASET TANAMAN HERBAL/Data Training/Teh Hijau'"
      ],
      "id": "ddd72a9c"
    },
    {
      "cell_type": "markdown",
      "metadata": {
        "id": "e3682ffd"
      },
      "source": [
        "**membuat variable**"
      ],
      "id": "e3682ffd"
    },
    {
      "cell_type": "code",
      "execution_count": 12,
      "metadata": {
        "id": "a0b62646"
      },
      "outputs": [],
      "source": [
        "def assign_label(img,tanaman_herbal):\n",
        "    return tanaman_herbal"
      ],
      "id": "a0b62646"
    },
    {
      "cell_type": "markdown",
      "metadata": {
        "id": "b3d9fd2e"
      },
      "source": [
        "**memberikan label pada data dan menyatukan data menjadi path**"
      ],
      "id": "b3d9fd2e"
    },
    {
      "cell_type": "code",
      "execution_count": 13,
      "metadata": {
        "id": "f5a41b05"
      },
      "outputs": [],
      "source": [
        "def make_train_data(tanaman_herbal,DIR):\n",
        "    for img in tqdm(os.listdir(DIR)):\n",
        "        label=assign_label(img,tanaman_herbal)\n",
        "        path = os.path.join(DIR,img)\n",
        "        img = cv2.imread(path,cv2.IMREAD_COLOR)\n",
        "        img = cv2.resize(img, (IMG_SIZE,IMG_SIZE))\n",
        "        \n",
        "        X.append(np.array(img))\n",
        "        Z.append(str(label))"
      ],
      "id": "f5a41b05"
    },
    {
      "cell_type": "markdown",
      "metadata": {
        "id": "8969acbd"
      },
      "source": [
        "**membuat train data path dan penamaan**"
      ],
      "id": "8969acbd"
    },
    {
      "cell_type": "code",
      "execution_count": 14,
      "metadata": {
        "colab": {
          "base_uri": "https://localhost:8080/"
        },
        "id": "50407fd9",
        "outputId": "db394968-b4c4-4a32-c640-68007815e1ee"
      },
      "outputs": [
        {
          "output_type": "stream",
          "name": "stderr",
          "text": [
            "100%|██████████| 80/80 [00:22<00:00,  3.50it/s]"
          ]
        },
        {
          "output_type": "stream",
          "name": "stdout",
          "text": [
            "80\n"
          ]
        },
        {
          "output_type": "stream",
          "name": "stderr",
          "text": [
            "\n"
          ]
        }
      ],
      "source": [
        "make_train_data('Daun Jambu Biji',Daun_Jambu_Biji)\n",
        "print(len(X))"
      ],
      "id": "50407fd9"
    },
    {
      "cell_type": "code",
      "execution_count": 15,
      "metadata": {
        "colab": {
          "base_uri": "https://localhost:8080/"
        },
        "id": "ee2f5a1e",
        "outputId": "3b743d19-5332-4cc1-b31a-f41f7327d1bf"
      },
      "outputs": [
        {
          "output_type": "stream",
          "name": "stderr",
          "text": [
            "100%|██████████| 80/80 [00:24<00:00,  3.26it/s]"
          ]
        },
        {
          "output_type": "stream",
          "name": "stdout",
          "text": [
            "160\n"
          ]
        },
        {
          "output_type": "stream",
          "name": "stderr",
          "text": [
            "\n"
          ]
        }
      ],
      "source": [
        "make_train_data('Daun Kari',Daun_Kari)\n",
        "print(len(X))"
      ],
      "id": "ee2f5a1e"
    },
    {
      "cell_type": "code",
      "execution_count": 16,
      "metadata": {
        "colab": {
          "base_uri": "https://localhost:8080/"
        },
        "id": "ee1d15ca",
        "outputId": "0430e3fc-8a5e-4d17-cf2d-1712d27f0335"
      },
      "outputs": [
        {
          "output_type": "stream",
          "name": "stderr",
          "text": [
            "100%|██████████| 80/80 [00:12<00:00,  6.45it/s]"
          ]
        },
        {
          "output_type": "stream",
          "name": "stdout",
          "text": [
            "240\n"
          ]
        },
        {
          "output_type": "stream",
          "name": "stderr",
          "text": [
            "\n"
          ]
        }
      ],
      "source": [
        "make_train_data('Daun Kemangi',Daun_Kemangi)\n",
        "print(len(X))"
      ],
      "id": "ee1d15ca"
    },
    {
      "cell_type": "code",
      "execution_count": 17,
      "metadata": {
        "colab": {
          "base_uri": "https://localhost:8080/"
        },
        "id": "2ededc5f",
        "outputId": "a9f592ff-baf3-487f-80a8-ee219a581468"
      },
      "outputs": [
        {
          "output_type": "stream",
          "name": "stderr",
          "text": [
            "100%|██████████| 80/80 [00:23<00:00,  3.39it/s]"
          ]
        },
        {
          "output_type": "stream",
          "name": "stdout",
          "text": [
            "320\n"
          ]
        },
        {
          "output_type": "stream",
          "name": "stderr",
          "text": [
            "\n"
          ]
        }
      ],
      "source": [
        "make_train_data('Daun Kunyit',Daun_Kunyit)\n",
        "print(len(X))"
      ],
      "id": "2ededc5f"
    },
    {
      "cell_type": "code",
      "execution_count": 18,
      "metadata": {
        "colab": {
          "base_uri": "https://localhost:8080/"
        },
        "id": "a9b1f1d9",
        "outputId": "11a88837-b3fd-4b0c-d39f-1bd3c7c930e3"
      },
      "outputs": [
        {
          "output_type": "stream",
          "name": "stderr",
          "text": [
            "100%|██████████| 80/80 [00:01<00:00, 59.37it/s]"
          ]
        },
        {
          "output_type": "stream",
          "name": "stdout",
          "text": [
            "400\n"
          ]
        },
        {
          "output_type": "stream",
          "name": "stderr",
          "text": [
            "\n"
          ]
        }
      ],
      "source": [
        "make_train_data('Daun Mint',Daun_Mint)\n",
        "print(len(X))"
      ],
      "id": "a9b1f1d9"
    },
    {
      "cell_type": "code",
      "execution_count": 19,
      "metadata": {
        "colab": {
          "base_uri": "https://localhost:8080/"
        },
        "id": "e9018d71",
        "outputId": "19f37dc8-a4b7-44de-f926-a987b5193ff7"
      },
      "outputs": [
        {
          "output_type": "stream",
          "name": "stderr",
          "text": [
            "100%|██████████| 80/80 [00:23<00:00,  3.43it/s]"
          ]
        },
        {
          "output_type": "stream",
          "name": "stdout",
          "text": [
            "480\n"
          ]
        },
        {
          "output_type": "stream",
          "name": "stderr",
          "text": [
            "\n"
          ]
        }
      ],
      "source": [
        "make_train_data('Daun Pepaya',Daun_Pepaya)\n",
        "print(len(X))"
      ],
      "id": "e9018d71"
    },
    {
      "cell_type": "code",
      "execution_count": 20,
      "metadata": {
        "colab": {
          "base_uri": "https://localhost:8080/"
        },
        "id": "4edaa39b",
        "outputId": "696e8c6f-48fd-4dfd-c653-8bc44d986a99"
      },
      "outputs": [
        {
          "output_type": "stream",
          "name": "stderr",
          "text": [
            "100%|██████████| 80/80 [00:13<00:00,  6.05it/s]\n"
          ]
        },
        {
          "output_type": "stream",
          "name": "stdout",
          "text": [
            "560\n"
          ]
        }
      ],
      "source": [
        "make_train_data('Daun Sirih',Daun_Sirih)\n",
        "print(len(X))"
      ],
      "id": "4edaa39b"
    },
    {
      "cell_type": "code",
      "execution_count": 21,
      "metadata": {
        "colab": {
          "base_uri": "https://localhost:8080/"
        },
        "id": "9e9a2851",
        "outputId": "5a3413a8-b70b-4a12-8073-f10f10536cb6"
      },
      "outputs": [
        {
          "output_type": "stream",
          "name": "stderr",
          "text": [
            "100%|██████████| 80/80 [00:24<00:00,  3.30it/s]"
          ]
        },
        {
          "output_type": "stream",
          "name": "stdout",
          "text": [
            "640\n"
          ]
        },
        {
          "output_type": "stream",
          "name": "stderr",
          "text": [
            "\n"
          ]
        }
      ],
      "source": [
        "make_train_data('Daun Sirsak',Daun_Sirsak)\n",
        "print(len(X))"
      ],
      "id": "9e9a2851"
    },
    {
      "cell_type": "code",
      "execution_count": 22,
      "metadata": {
        "colab": {
          "base_uri": "https://localhost:8080/"
        },
        "id": "89e8d698",
        "outputId": "98bb1fb7-4f59-4206-8ef4-d8ba8a45ecf2"
      },
      "outputs": [
        {
          "output_type": "stream",
          "name": "stderr",
          "text": [
            "100%|██████████| 80/80 [00:22<00:00,  3.62it/s]"
          ]
        },
        {
          "output_type": "stream",
          "name": "stdout",
          "text": [
            "720\n"
          ]
        },
        {
          "output_type": "stream",
          "name": "stderr",
          "text": [
            "\n"
          ]
        }
      ],
      "source": [
        "make_train_data('Lidah Buaya',Lidah_Buaya)\n",
        "print(len(X))"
      ],
      "id": "89e8d698"
    },
    {
      "cell_type": "code",
      "execution_count": 23,
      "metadata": {
        "colab": {
          "base_uri": "https://localhost:8080/"
        },
        "id": "3918aada",
        "outputId": "30def472-58c1-4ac3-a122-cdb5a5d2b010"
      },
      "outputs": [
        {
          "output_type": "stream",
          "name": "stderr",
          "text": [
            "100%|██████████| 80/80 [00:01<00:00, 58.81it/s]"
          ]
        },
        {
          "output_type": "stream",
          "name": "stdout",
          "text": [
            "800\n"
          ]
        },
        {
          "output_type": "stream",
          "name": "stderr",
          "text": [
            "\n"
          ]
        }
      ],
      "source": [
        "make_train_data('Teh Hijau',Teh_Hijau)\n",
        "print(len(X))"
      ],
      "id": "3918aada"
    },
    {
      "cell_type": "markdown",
      "metadata": {
        "id": "e1e7c563"
      },
      "source": [
        "**menampilkan data gambar secara acak beserta nama tanaman herbal**"
      ],
      "id": "e1e7c563"
    },
    {
      "cell_type": "code",
      "execution_count": 24,
      "metadata": {
        "id": "c615b57a"
      },
      "outputs": [],
      "source": [
        "fig,ax=plt.subplots(5,5)\n",
        "fig.set_size_inches(20,20)\n",
        "for i in range(5):\n",
        "    for j in range (5):\n",
        "        l=rn.randint(0,len(Z))\n",
        "        ax[i,j].imshow(X[l])\n",
        "        ax[i,j].set_title('Tanaman Herbal: '+Z[l])\n",
        "        \n",
        "plt.tight_layout()"
      ],
      "id": "c615b57a"
    },
    {
      "cell_type": "markdown",
      "metadata": {
        "id": "1f18da59"
      },
      "source": [
        "**membuat label kode untuk setiap variable**"
      ],
      "id": "1f18da59"
    },
    {
      "cell_type": "code",
      "execution_count": 26,
      "metadata": {
        "id": "68f36009"
      },
      "outputs": [],
      "source": [
        "le=LabelEncoder()\n",
        "Y=le.fit_transform(Z)\n",
        "Y=to_categorical(Y,10)\n",
        "X=np.array(X)\n",
        "X=X/255"
      ],
      "id": "68f36009"
    },
    {
      "cell_type": "markdown",
      "metadata": {
        "id": "a4806406"
      },
      "source": [
        "**membagi dataset menjadi data pelatihan dan data test**"
      ],
      "id": "a4806406"
    },
    {
      "cell_type": "code",
      "execution_count": 27,
      "metadata": {
        "id": "b1d469ab"
      },
      "outputs": [],
      "source": [
        "x_train,x_test,y_train,y_test=train_test_split(X,Y,test_size=0.25,random_state=10)"
      ],
      "id": "b1d469ab"
    },
    {
      "cell_type": "markdown",
      "metadata": {
        "id": "96f921c7"
      },
      "source": [
        "**mengambil data secara acak(random) untuk data train dan test**"
      ],
      "id": "96f921c7"
    },
    {
      "cell_type": "code",
      "execution_count": 28,
      "metadata": {
        "id": "d85ffdb6"
      },
      "outputs": [],
      "source": [
        "np.random.seed(10)\n",
        "rn.seed(10)\n",
        "tf.random.set_seed(10)"
      ],
      "id": "d85ffdb6"
    },
    {
      "cell_type": "markdown",
      "metadata": {
        "id": "672f127a"
      },
      "source": [
        "**membangun model data Convolutional Neural Network untuk Sequential tabel**"
      ],
      "id": "672f127a"
    },
    {
      "cell_type": "code",
      "execution_count": 29,
      "metadata": {
        "id": "268b0f01"
      },
      "outputs": [],
      "source": [
        "# # modelling starts using a CNN.\n",
        "\n",
        "model = Sequential()\n",
        "model.add(Conv2D(filters = 32, kernel_size = (17,17),padding = 'Same',activation ='relu', input_shape = (224,224,3)))\n",
        "model.add(MaxPooling2D(pool_size=(2,2)))\n",
        "\n",
        "model.add(Conv2D(filters = 64, kernel_size = (3,3),padding = 'Same',activation ='relu'))\n",
        "model.add(MaxPooling2D(pool_size=(2,2), strides=(2,2)))\n",
        " \n",
        "model.add(Conv2D(filters =96, kernel_size = (3,3),padding = 'Same',activation ='relu'))\n",
        "model.add(MaxPooling2D(pool_size=(2,2), strides=(2,2)))\n",
        "\n",
        "model.add(Conv2D(filters = 96, kernel_size = (3,3),padding = 'Same',activation ='relu'))\n",
        "model.add(MaxPooling2D(pool_size=(2,2), strides=(2,2)))\n",
        "\n",
        "model.add(Flatten())\n",
        "model.add(Dense(512))\n",
        "model.add(Activation('relu'))\n",
        "model.add(Dense(10, activation = \"softmax\"))"
      ],
      "id": "268b0f01"
    },
    {
      "cell_type": "markdown",
      "metadata": {
        "id": "f1369855"
      },
      "source": [
        "**membuat val akurasi untuk epoch data**"
      ],
      "id": "f1369855"
    },
    {
      "cell_type": "code",
      "execution_count": 30,
      "metadata": {
        "id": "8cf40b08"
      },
      "outputs": [],
      "source": [
        "from keras.callbacks import ReduceLROnPlateau\n",
        "red_lr= ReduceLROnPlateau(monitor='val_acc',patience=3,verbose=1,factor=0.1)"
      ],
      "id": "8cf40b08"
    },
    {
      "cell_type": "markdown",
      "metadata": {
        "id": "df19aebf"
      },
      "source": [
        "**membuat datagen untuk augmentasi data**"
      ],
      "id": "df19aebf"
    },
    {
      "cell_type": "code",
      "execution_count": 31,
      "metadata": {
        "id": "2cf011ce"
      },
      "outputs": [],
      "source": [
        "datagen = ImageDataGenerator(\n",
        "        featurewise_center=False,  # set input mean to 0 over the dataset\n",
        "        samplewise_center=False,  # set each sample mean to 0\n",
        "        featurewise_std_normalization=False,  # divide inputs by std of the dataset\n",
        "        samplewise_std_normalization=False,  # divide each input by its std\n",
        "        zca_whitening=False,  # apply ZCA whitening\n",
        "        rotation_range=10,  # randomly rotate images in the range (degrees, 0 to 180)\n",
        "        zoom_range = 0.1, # Randomly zoom image \n",
        "        width_shift_range=0.2,  # randomly shift images horizontally (fraction of total width)\n",
        "        height_shift_range=0.2,  # randomly shift images vertically (fraction of total height)\n",
        "        horizontal_flip=True,  # randomly flip images\n",
        "        vertical_flip=False)  # randomly flip images\n",
        "\n",
        "datagen.fit(x_train)"
      ],
      "id": "2cf011ce"
    },
    {
      "cell_type": "markdown",
      "metadata": {
        "id": "a38171e7"
      },
      "source": [
        "**memberi keterangan untuk loss akurasi dan metrics akurasi**"
      ],
      "id": "a38171e7"
    },
    {
      "cell_type": "code",
      "execution_count": 32,
      "metadata": {
        "id": "f8399b34"
      },
      "outputs": [],
      "source": [
        "model.compile(optimizer=Adam(lr=0.001),loss='categorical_crossentropy',metrics=['accuracy'])"
      ],
      "id": "f8399b34"
    },
    {
      "cell_type": "markdown",
      "metadata": {
        "id": "b4b219b0"
      },
      "source": [
        "**melakukan proses pelatihan data dengan model.fit_generator**"
      ],
      "id": "b4b219b0"
    },
    {
      "cell_type": "code",
      "execution_count": 33,
      "metadata": {
        "colab": {
          "base_uri": "https://localhost:8080/"
        },
        "id": "d6bf46cc",
        "outputId": "bcdbbe62-6e10-417c-d8f7-bed82294614d"
      },
      "outputs": [
        {
          "output_type": "stream",
          "name": "stdout",
          "text": [
            "Epoch 1/80\n",
            "30/30 [==============================] - 18s 243ms/step - loss: 2.3049 - accuracy: 0.0933 - val_loss: 2.3050 - val_accuracy: 0.0800\n",
            "Epoch 2/80\n",
            "30/30 [==============================] - 6s 213ms/step - loss: 2.3024 - accuracy: 0.1067 - val_loss: 2.3075 - val_accuracy: 0.0800\n",
            "Epoch 3/80\n",
            "30/30 [==============================] - 6s 215ms/step - loss: 2.2866 - accuracy: 0.1383 - val_loss: 2.2499 - val_accuracy: 0.1150\n",
            "Epoch 4/80\n",
            "30/30 [==============================] - 6s 214ms/step - loss: 1.9995 - accuracy: 0.2400 - val_loss: 1.8413 - val_accuracy: 0.2000\n",
            "Epoch 5/80\n",
            "30/30 [==============================] - 6s 214ms/step - loss: 1.8127 - accuracy: 0.3017 - val_loss: 1.7783 - val_accuracy: 0.2800\n",
            "Epoch 6/80\n",
            "30/30 [==============================] - 7s 219ms/step - loss: 1.7736 - accuracy: 0.3217 - val_loss: 1.6731 - val_accuracy: 0.3100\n",
            "Epoch 7/80\n",
            "30/30 [==============================] - 6s 215ms/step - loss: 1.7258 - accuracy: 0.3650 - val_loss: 1.6512 - val_accuracy: 0.3500\n",
            "Epoch 8/80\n",
            "30/30 [==============================] - 8s 257ms/step - loss: 1.6930 - accuracy: 0.3483 - val_loss: 1.6358 - val_accuracy: 0.3350\n",
            "Epoch 9/80\n",
            "30/30 [==============================] - 7s 220ms/step - loss: 1.5605 - accuracy: 0.4183 - val_loss: 1.5378 - val_accuracy: 0.4150\n",
            "Epoch 10/80\n",
            "30/30 [==============================] - 6s 215ms/step - loss: 1.4982 - accuracy: 0.4633 - val_loss: 1.4792 - val_accuracy: 0.4300\n",
            "Epoch 11/80\n",
            "30/30 [==============================] - 6s 212ms/step - loss: 1.4909 - accuracy: 0.4467 - val_loss: 1.4617 - val_accuracy: 0.5000\n",
            "Epoch 12/80\n",
            "30/30 [==============================] - 6s 211ms/step - loss: 1.4333 - accuracy: 0.4800 - val_loss: 1.3678 - val_accuracy: 0.5050\n",
            "Epoch 13/80\n",
            "30/30 [==============================] - 6s 213ms/step - loss: 1.3868 - accuracy: 0.4983 - val_loss: 1.2584 - val_accuracy: 0.5550\n",
            "Epoch 14/80\n",
            "30/30 [==============================] - 6s 214ms/step - loss: 1.3082 - accuracy: 0.5167 - val_loss: 1.2225 - val_accuracy: 0.5950\n",
            "Epoch 15/80\n",
            "30/30 [==============================] - 6s 215ms/step - loss: 1.2636 - accuracy: 0.5367 - val_loss: 1.1683 - val_accuracy: 0.6250\n",
            "Epoch 16/80\n",
            "30/30 [==============================] - 6s 213ms/step - loss: 1.2828 - accuracy: 0.5150 - val_loss: 1.1460 - val_accuracy: 0.6250\n",
            "Epoch 17/80\n",
            "30/30 [==============================] - 6s 214ms/step - loss: 1.1558 - accuracy: 0.5800 - val_loss: 1.1361 - val_accuracy: 0.6050\n",
            "Epoch 18/80\n",
            "30/30 [==============================] - 6s 212ms/step - loss: 1.1882 - accuracy: 0.5717 - val_loss: 1.1795 - val_accuracy: 0.5600\n",
            "Epoch 19/80\n",
            "30/30 [==============================] - 6s 213ms/step - loss: 1.2371 - accuracy: 0.5583 - val_loss: 1.1816 - val_accuracy: 0.5850\n",
            "Epoch 20/80\n",
            "30/30 [==============================] - 6s 213ms/step - loss: 1.1543 - accuracy: 0.5767 - val_loss: 1.1658 - val_accuracy: 0.5800\n",
            "Epoch 21/80\n",
            "30/30 [==============================] - 6s 213ms/step - loss: 1.1479 - accuracy: 0.5983 - val_loss: 1.1677 - val_accuracy: 0.5950\n",
            "Epoch 22/80\n",
            "30/30 [==============================] - 6s 211ms/step - loss: 1.1040 - accuracy: 0.5983 - val_loss: 1.1060 - val_accuracy: 0.5800\n",
            "Epoch 23/80\n",
            "30/30 [==============================] - 6s 215ms/step - loss: 1.0693 - accuracy: 0.6167 - val_loss: 1.1715 - val_accuracy: 0.5650\n",
            "Epoch 24/80\n",
            "30/30 [==============================] - 7s 244ms/step - loss: 1.0589 - accuracy: 0.6150 - val_loss: 0.9673 - val_accuracy: 0.6250\n",
            "Epoch 25/80\n",
            "30/30 [==============================] - 6s 213ms/step - loss: 0.9930 - accuracy: 0.6517 - val_loss: 0.9804 - val_accuracy: 0.6400\n",
            "Epoch 26/80\n",
            "30/30 [==============================] - 6s 215ms/step - loss: 1.0195 - accuracy: 0.6417 - val_loss: 0.9967 - val_accuracy: 0.6450\n",
            "Epoch 27/80\n",
            "30/30 [==============================] - 6s 213ms/step - loss: 1.0125 - accuracy: 0.6617 - val_loss: 0.9988 - val_accuracy: 0.6300\n",
            "Epoch 28/80\n",
            "30/30 [==============================] - 6s 214ms/step - loss: 0.9797 - accuracy: 0.6567 - val_loss: 0.9623 - val_accuracy: 0.6950\n",
            "Epoch 29/80\n",
            "30/30 [==============================] - 6s 215ms/step - loss: 0.9967 - accuracy: 0.6383 - val_loss: 0.9756 - val_accuracy: 0.6700\n",
            "Epoch 30/80\n",
            "30/30 [==============================] - 6s 215ms/step - loss: 1.0154 - accuracy: 0.6200 - val_loss: 0.8875 - val_accuracy: 0.6750\n",
            "Epoch 31/80\n",
            "30/30 [==============================] - 6s 212ms/step - loss: 1.0126 - accuracy: 0.6483 - val_loss: 1.0074 - val_accuracy: 0.6200\n",
            "Epoch 32/80\n",
            "30/30 [==============================] - 6s 213ms/step - loss: 1.0066 - accuracy: 0.6183 - val_loss: 0.9409 - val_accuracy: 0.6700\n",
            "Epoch 33/80\n",
            "30/30 [==============================] - 6s 215ms/step - loss: 0.8569 - accuracy: 0.6900 - val_loss: 0.8735 - val_accuracy: 0.6900\n",
            "Epoch 34/80\n",
            "30/30 [==============================] - 6s 216ms/step - loss: 0.8966 - accuracy: 0.6717 - val_loss: 0.8177 - val_accuracy: 0.7050\n",
            "Epoch 35/80\n",
            "30/30 [==============================] - 6s 211ms/step - loss: 0.8853 - accuracy: 0.6750 - val_loss: 0.8137 - val_accuracy: 0.7000\n",
            "Epoch 36/80\n",
            "30/30 [==============================] - 6s 213ms/step - loss: 0.9449 - accuracy: 0.6450 - val_loss: 0.7768 - val_accuracy: 0.7400\n",
            "Epoch 37/80\n",
            "30/30 [==============================] - 6s 213ms/step - loss: 0.8498 - accuracy: 0.6983 - val_loss: 0.7865 - val_accuracy: 0.7600\n",
            "Epoch 38/80\n",
            "30/30 [==============================] - 6s 212ms/step - loss: 0.8505 - accuracy: 0.6917 - val_loss: 0.8271 - val_accuracy: 0.6900\n",
            "Epoch 39/80\n",
            "30/30 [==============================] - 6s 215ms/step - loss: 0.8736 - accuracy: 0.6900 - val_loss: 0.8465 - val_accuracy: 0.7100\n",
            "Epoch 40/80\n",
            "30/30 [==============================] - 6s 214ms/step - loss: 0.8338 - accuracy: 0.7067 - val_loss: 0.7571 - val_accuracy: 0.7600\n",
            "Epoch 41/80\n",
            "30/30 [==============================] - 6s 213ms/step - loss: 0.8060 - accuracy: 0.7167 - val_loss: 0.6944 - val_accuracy: 0.7450\n",
            "Epoch 42/80\n",
            "30/30 [==============================] - 6s 216ms/step - loss: 0.8426 - accuracy: 0.6967 - val_loss: 0.9759 - val_accuracy: 0.6450\n",
            "Epoch 43/80\n",
            "30/30 [==============================] - 6s 215ms/step - loss: 0.8731 - accuracy: 0.6833 - val_loss: 0.7896 - val_accuracy: 0.7300\n",
            "Epoch 44/80\n",
            "30/30 [==============================] - 6s 211ms/step - loss: 0.8247 - accuracy: 0.6983 - val_loss: 0.7770 - val_accuracy: 0.7450\n",
            "Epoch 45/80\n",
            "30/30 [==============================] - 6s 213ms/step - loss: 0.8217 - accuracy: 0.7083 - val_loss: 0.7950 - val_accuracy: 0.7500\n",
            "Epoch 46/80\n",
            "30/30 [==============================] - 6s 212ms/step - loss: 0.7461 - accuracy: 0.7333 - val_loss: 0.6675 - val_accuracy: 0.7850\n",
            "Epoch 47/80\n",
            "30/30 [==============================] - 7s 217ms/step - loss: 0.7294 - accuracy: 0.7533 - val_loss: 0.9405 - val_accuracy: 0.6900\n",
            "Epoch 48/80\n",
            "30/30 [==============================] - 6s 215ms/step - loss: 0.7765 - accuracy: 0.7200 - val_loss: 0.7121 - val_accuracy: 0.7700\n",
            "Epoch 49/80\n",
            "30/30 [==============================] - 6s 215ms/step - loss: 0.7515 - accuracy: 0.7183 - val_loss: 0.7259 - val_accuracy: 0.7750\n",
            "Epoch 50/80\n",
            "30/30 [==============================] - 6s 214ms/step - loss: 0.7228 - accuracy: 0.7317 - val_loss: 0.8429 - val_accuracy: 0.7000\n",
            "Epoch 51/80\n",
            "30/30 [==============================] - 7s 218ms/step - loss: 0.8396 - accuracy: 0.7000 - val_loss: 0.7696 - val_accuracy: 0.7100\n",
            "Epoch 52/80\n",
            "30/30 [==============================] - 6s 214ms/step - loss: 0.7212 - accuracy: 0.7600 - val_loss: 0.7679 - val_accuracy: 0.7150\n",
            "Epoch 53/80\n",
            "30/30 [==============================] - 6s 215ms/step - loss: 0.7732 - accuracy: 0.7250 - val_loss: 0.6621 - val_accuracy: 0.7800\n",
            "Epoch 54/80\n",
            "30/30 [==============================] - 6s 214ms/step - loss: 0.6954 - accuracy: 0.7483 - val_loss: 0.7285 - val_accuracy: 0.7350\n",
            "Epoch 55/80\n",
            "30/30 [==============================] - 6s 215ms/step - loss: 0.7436 - accuracy: 0.7150 - val_loss: 0.7655 - val_accuracy: 0.7500\n",
            "Epoch 56/80\n",
            "30/30 [==============================] - 7s 217ms/step - loss: 0.7251 - accuracy: 0.7267 - val_loss: 0.7763 - val_accuracy: 0.7150\n",
            "Epoch 57/80\n",
            "30/30 [==============================] - 6s 214ms/step - loss: 0.7986 - accuracy: 0.7033 - val_loss: 0.9066 - val_accuracy: 0.6950\n",
            "Epoch 58/80\n",
            "30/30 [==============================] - 7s 241ms/step - loss: 0.7649 - accuracy: 0.7367 - val_loss: 0.6859 - val_accuracy: 0.7950\n",
            "Epoch 59/80\n",
            "30/30 [==============================] - 6s 214ms/step - loss: 0.6642 - accuracy: 0.7483 - val_loss: 0.7167 - val_accuracy: 0.7550\n",
            "Epoch 60/80\n",
            "30/30 [==============================] - 6s 214ms/step - loss: 0.6185 - accuracy: 0.7683 - val_loss: 0.6554 - val_accuracy: 0.7750\n",
            "Epoch 61/80\n",
            "30/30 [==============================] - 6s 213ms/step - loss: 0.6255 - accuracy: 0.7767 - val_loss: 0.6301 - val_accuracy: 0.8150\n",
            "Epoch 62/80\n",
            "30/30 [==============================] - 6s 214ms/step - loss: 0.6257 - accuracy: 0.7750 - val_loss: 0.6248 - val_accuracy: 0.7850\n",
            "Epoch 63/80\n",
            "30/30 [==============================] - 6s 212ms/step - loss: 0.6101 - accuracy: 0.7717 - val_loss: 0.7290 - val_accuracy: 0.7250\n",
            "Epoch 64/80\n",
            "30/30 [==============================] - 6s 214ms/step - loss: 0.6258 - accuracy: 0.7767 - val_loss: 0.7345 - val_accuracy: 0.7150\n",
            "Epoch 65/80\n",
            "30/30 [==============================] - 6s 214ms/step - loss: 0.5947 - accuracy: 0.7817 - val_loss: 0.6371 - val_accuracy: 0.7750\n",
            "Epoch 66/80\n",
            "30/30 [==============================] - 6s 213ms/step - loss: 0.6198 - accuracy: 0.7700 - val_loss: 0.7201 - val_accuracy: 0.7700\n",
            "Epoch 67/80\n",
            "30/30 [==============================] - 7s 217ms/step - loss: 0.6064 - accuracy: 0.7883 - val_loss: 0.6522 - val_accuracy: 0.7800\n",
            "Epoch 68/80\n",
            "30/30 [==============================] - 6s 214ms/step - loss: 0.6691 - accuracy: 0.7683 - val_loss: 1.0600 - val_accuracy: 0.6400\n",
            "Epoch 69/80\n",
            "30/30 [==============================] - 6s 214ms/step - loss: 0.6710 - accuracy: 0.7400 - val_loss: 0.7067 - val_accuracy: 0.7300\n",
            "Epoch 70/80\n",
            "30/30 [==============================] - 6s 215ms/step - loss: 0.6046 - accuracy: 0.7833 - val_loss: 0.6161 - val_accuracy: 0.7700\n",
            "Epoch 71/80\n",
            "30/30 [==============================] - 6s 213ms/step - loss: 0.5608 - accuracy: 0.7767 - val_loss: 0.5995 - val_accuracy: 0.7950\n",
            "Epoch 72/80\n",
            "30/30 [==============================] - 6s 214ms/step - loss: 0.5964 - accuracy: 0.7933 - val_loss: 0.5967 - val_accuracy: 0.7900\n",
            "Epoch 73/80\n",
            "30/30 [==============================] - 6s 212ms/step - loss: 0.5574 - accuracy: 0.8033 - val_loss: 0.6107 - val_accuracy: 0.7800\n",
            "Epoch 74/80\n",
            "30/30 [==============================] - 6s 216ms/step - loss: 0.5446 - accuracy: 0.8017 - val_loss: 0.7030 - val_accuracy: 0.7800\n",
            "Epoch 75/80\n",
            "30/30 [==============================] - 6s 210ms/step - loss: 0.5734 - accuracy: 0.7967 - val_loss: 0.7547 - val_accuracy: 0.7300\n",
            "Epoch 76/80\n",
            "30/30 [==============================] - 6s 215ms/step - loss: 0.5514 - accuracy: 0.8017 - val_loss: 0.5951 - val_accuracy: 0.7750\n",
            "Epoch 77/80\n",
            "30/30 [==============================] - 6s 213ms/step - loss: 0.5642 - accuracy: 0.8067 - val_loss: 0.6509 - val_accuracy: 0.7700\n",
            "Epoch 78/80\n",
            "30/30 [==============================] - 7s 218ms/step - loss: 0.5898 - accuracy: 0.7767 - val_loss: 0.6601 - val_accuracy: 0.7650\n",
            "Epoch 79/80\n",
            "30/30 [==============================] - 6s 215ms/step - loss: 0.5677 - accuracy: 0.7850 - val_loss: 0.6471 - val_accuracy: 0.7950\n",
            "Epoch 80/80\n",
            "30/30 [==============================] - 6s 214ms/step - loss: 0.5624 - accuracy: 0.7900 - val_loss: 0.6673 - val_accuracy: 0.7500\n"
          ]
        }
      ],
      "source": [
        "batch=20\n",
        "epoch=80\n",
        "step = np.ceil(x_train.shape[0]/batch)\n",
        "History = model.fit_generator(\n",
        "    datagen.flow(x_train,y_train, batch_size=batch),\n",
        "    epochs = epoch,\n",
        "    validation_data = (x_test,y_test),\n",
        "    verbose = 1,\n",
        "    steps_per_epoch=step\n",
        ")"
      ],
      "id": "d6bf46cc"
    },
    {
      "cell_type": "markdown",
      "metadata": {
        "id": "396af519"
      },
      "source": [
        "**menyimpan hasil model kedalam format h5**"
      ],
      "id": "396af519"
    },
    {
      "cell_type": "code",
      "execution_count": 34,
      "metadata": {
        "id": "bfab349b"
      },
      "outputs": [],
      "source": [
        "model.save('/kaggle/working/Tanaman_Herbal.h5')"
      ],
      "id": "bfab349b"
    },
    {
      "cell_type": "markdown",
      "metadata": {
        "id": "6ed21f1d"
      },
      "source": [
        "**mengkonversikan model h5 ke tflite**"
      ],
      "id": "6ed21f1d"
    },
    {
      "cell_type": "code",
      "execution_count": 35,
      "metadata": {
        "colab": {
          "base_uri": "https://localhost:8080/"
        },
        "id": "f12d0d48",
        "outputId": "9095d0df-b391-4449-a5de-4c449e13f362"
      },
      "outputs": [
        {
          "output_type": "stream",
          "name": "stderr",
          "text": [
            "WARNING:absl:Found untraced functions such as _jit_compiled_convolution_op, _jit_compiled_convolution_op, _jit_compiled_convolution_op, _jit_compiled_convolution_op while saving (showing 4 of 4). These functions will not be directly callable after loading.\n"
          ]
        }
      ],
      "source": [
        "saved_model_dir = '/kaggle/working/'\n",
        "tf.saved_model.save(model, saved_model_dir)\n",
        "\n",
        "converter = tf.lite.TFLiteConverter.from_saved_model(saved_model_dir)\n",
        "tflite_model = converter.convert()\n",
        "\n",
        "with open('model.tflite', 'wb') as f:\n",
        "  f.write(tflite_model)\n",
        "\n",
        "target_names = ['Daun Jambu Biji','Daun Kari','Daun Kemangi','Daun Kunyit','Daun Mint','Daun Pepaya','Daun Sirih','Daun Sirsak','Lidah Buaya','Teh Hijau']\n",
        "labels = '\\n'.join(target_names)\n",
        "\n",
        "with open('labels.txt', 'w') as f:\n",
        "  f.write(labels)"
      ],
      "id": "f12d0d48"
    },
    {
      "cell_type": "markdown",
      "metadata": {
        "id": "218caa6b"
      },
      "source": [
        "**menampilkan arsitektur model squential tabel**"
      ],
      "id": "218caa6b"
    },
    {
      "cell_type": "code",
      "execution_count": 36,
      "metadata": {
        "colab": {
          "base_uri": "https://localhost:8080/"
        },
        "id": "3672bbc9",
        "outputId": "6970b20e-2b54-48fe-9cab-ccd2bfa21dcd"
      },
      "outputs": [
        {
          "output_type": "stream",
          "name": "stdout",
          "text": [
            "Model: \"sequential\"\n",
            "_________________________________________________________________\n",
            " Layer (type)                Output Shape              Param #   \n",
            "=================================================================\n",
            " conv2d (Conv2D)             (None, 224, 224, 32)      27776     \n",
            "                                                                 \n",
            " max_pooling2d (MaxPooling2D  (None, 112, 112, 32)     0         \n",
            " )                                                               \n",
            "                                                                 \n",
            " conv2d_1 (Conv2D)           (None, 112, 112, 64)      18496     \n",
            "                                                                 \n",
            " max_pooling2d_1 (MaxPooling  (None, 56, 56, 64)       0         \n",
            " 2D)                                                             \n",
            "                                                                 \n",
            " conv2d_2 (Conv2D)           (None, 56, 56, 96)        55392     \n",
            "                                                                 \n",
            " max_pooling2d_2 (MaxPooling  (None, 28, 28, 96)       0         \n",
            " 2D)                                                             \n",
            "                                                                 \n",
            " conv2d_3 (Conv2D)           (None, 28, 28, 96)        83040     \n",
            "                                                                 \n",
            " max_pooling2d_3 (MaxPooling  (None, 14, 14, 96)       0         \n",
            " 2D)                                                             \n",
            "                                                                 \n",
            " flatten (Flatten)           (None, 18816)             0         \n",
            "                                                                 \n",
            " dense (Dense)               (None, 512)               9634304   \n",
            "                                                                 \n",
            " activation (Activation)     (None, 512)               0         \n",
            "                                                                 \n",
            " dense_1 (Dense)             (None, 10)                5130      \n",
            "                                                                 \n",
            "=================================================================\n",
            "Total params: 9,824,138\n",
            "Trainable params: 9,824,138\n",
            "Non-trainable params: 0\n",
            "_________________________________________________________________\n"
          ]
        }
      ],
      "source": [
        "model.summary()"
      ],
      "id": "3672bbc9"
    },
    {
      "cell_type": "markdown",
      "metadata": {
        "id": "b274e743"
      },
      "source": [
        "**menampilkan confusion matrix**"
      ],
      "id": "b274e743"
    },
    {
      "cell_type": "code",
      "execution_count": 37,
      "metadata": {
        "colab": {
          "base_uri": "https://localhost:8080/"
        },
        "id": "b3f8c734",
        "outputId": "b0f67ae0-26cb-4c34-e9c4-c869f4a09d1e"
      },
      "outputs": [
        {
          "output_type": "stream",
          "name": "stdout",
          "text": [
            "[[ 9  0  0  0  0  0  0  5  0  0]\n",
            " [ 0 14  0  0  0  3  0  1  0  1]\n",
            " [ 0  0 19  0  3  0  0  0  0  5]\n",
            " [ 6  0  0 17  0  0  3  1  1  0]\n",
            " [ 0  0  2  2 10  0  0  1  0  2]\n",
            " [ 0  0  0  0  0 22  1  0  0  0]\n",
            " [ 1  0  0  1  0  0 20  0  0  0]\n",
            " [ 0  0  0  1  0  0  0 17  0  0]\n",
            " [ 0  0  3  2  0  0  0  0 11  0]\n",
            " [ 0  0  2  0  2  0  0  0  1 11]]\n"
          ]
        }
      ],
      "source": [
        "Y_pred = model.predict_generator(x_test)\n",
        "y_pred = np.argmax(Y_pred, axis=1)\n",
        "y_test = np.argmax(y_test, axis=1)\n",
        "cm = confusion_matrix(y_test, y_pred)\n",
        "print(cm)"
      ],
      "id": "b3f8c734"
    },
    {
      "cell_type": "markdown",
      "metadata": {
        "id": "a403db32"
      },
      "source": [
        "**menampilkan classification report**"
      ],
      "id": "a403db32"
    },
    {
      "cell_type": "code",
      "execution_count": 38,
      "metadata": {
        "colab": {
          "base_uri": "https://localhost:8080/"
        },
        "id": "dfc62d7d",
        "outputId": "5b132267-6ce3-4789-867b-7011e8f279aa"
      },
      "outputs": [
        {
          "output_type": "stream",
          "name": "stdout",
          "text": [
            "                 precision    recall  f1-score   support\n",
            "\n",
            "Daun Jambu Biji       0.56      0.64      0.60        14\n",
            "      Daun Kari       1.00      0.74      0.85        19\n",
            "   Daun Kemangi       0.73      0.70      0.72        27\n",
            "    Daun Kunyit       0.74      0.61      0.67        28\n",
            "      Daun Mint       0.67      0.59      0.62        17\n",
            "    Daun Pepaya       0.88      0.96      0.92        23\n",
            "     Daun Sirih       0.83      0.91      0.87        22\n",
            "    Daun Sirsak       0.68      0.94      0.79        18\n",
            "    Lidah Buaya       0.85      0.69      0.76        16\n",
            "      Teh Hijau       0.58      0.69      0.63        16\n",
            "\n",
            "       accuracy                           0.75       200\n",
            "      macro avg       0.75      0.75      0.74       200\n",
            "   weighted avg       0.76      0.75      0.75       200\n",
            "\n"
          ]
        }
      ],
      "source": [
        "print(classification_report(y_test, y_pred, target_names=target_names))"
      ],
      "id": "dfc62d7d"
    },
    {
      "cell_type": "markdown",
      "metadata": {
        "id": "c1f04c92"
      },
      "source": [
        "**menampilkan confusion matrix dalam bentuk tabel**"
      ],
      "id": "c1f04c92"
    },
    {
      "cell_type": "code",
      "execution_count": 39,
      "metadata": {
        "id": "e62034cb"
      },
      "outputs": [],
      "source": [
        "def plot_confusion_matrix(cm, classes, normalize=True, title='Confusion matrix', cmap=plt.cm.Blues):\n",
        "\n",
        "    \"\"\"\n",
        "    This function prints and plots the confusion matrix.\n",
        "    Normalization can be applied by setting `normalize=True`.\n",
        "    \"\"\"\n",
        "\n",
        "    plt.figure(figsize=(8,8))\n",
        "    plt.imshow(cm, interpolation='nearest', cmap=cmap)\n",
        "    plt.title(title)\n",
        "    plt.colorbar()\n",
        "\n",
        "    tick_marks = np.arange(len(classes))\n",
        "    plt.xticks(tick_marks, classes, rotation=90)\n",
        "    plt.yticks(tick_marks, classes)\n",
        "\n",
        "    if normalize:\n",
        "        cm = cm.astype('float') / cm.sum(axis=1)[:, np.newaxis]\n",
        "        cm = np.around(cm, decimals=2)\n",
        "        cm[np.isnan(cm)] = 0.0\n",
        "        print(\"Normalized confusion matrix\")\n",
        "    else:\n",
        "        print('Confusion matrix, without normalization')\n",
        "    thresh = cm.max() / 2.\n",
        "\n",
        "    for i, j in itertools.product(range(cm.shape[0]), range(cm.shape[1])):\n",
        "        plt.text(j, i, cm[i, j],\n",
        "                 horizontalalignment=\"center\",\n",
        "                 color=\"white\" if cm[i, j] > thresh else \"black\")\n",
        "    plt.tight_layout()\n",
        "    plt.ylabel('True label')\n",
        "    plt.xlabel('Predicted label')\n"
      ],
      "id": "e62034cb"
    },
    {
      "cell_type": "code",
      "execution_count": 40,
      "metadata": {
        "colab": {
          "base_uri": "https://localhost:8080/",
          "height": 586
        },
        "id": "6082ac76",
        "outputId": "7e33eacf-f673-4f53-ccdf-d82c127652cd"
      },
      "outputs": [
        {
          "output_type": "stream",
          "name": "stdout",
          "text": [
            "Normalized confusion matrix\n"
          ]
        },
        {
          "output_type": "display_data",
          "data": {
            "text/plain": [
              "<Figure size 576x576 with 2 Axes>"
            ],
            "image/png": "[encoded data removed]"
          },
          "metadata": {}
        }
      ],
      "source": [
        "plot_confusion_matrix(cm, target_names, title='Confusion Matrix')"
      ],
      "id": "6082ac76"
    },
    {
      "cell_type": "markdown",
      "metadata": {
        "id": "204af2d4"
      },
      "source": [
        "**membuat ulang variabel untuk model format h5**"
      ],
      "id": "204af2d4"
    },
    {
      "cell_type": "code",
      "execution_count": 41,
      "metadata": {
        "id": "75588553"
      },
      "outputs": [],
      "source": [
        "new_model = tf.keras.models.load_model('/kaggle/working/Tanaman_Herbal.h5')"
      ],
      "id": "75588553"
    },
    {
      "cell_type": "markdown",
      "metadata": {
        "id": "6bcbc0dc"
      },
      "source": [
        "**menampilkan arsitektur model squential tabel**"
      ],
      "id": "6bcbc0dc"
    },
    {
      "cell_type": "code",
      "execution_count": 42,
      "metadata": {
        "colab": {
          "base_uri": "https://localhost:8080/"
        },
        "id": "3d7423d0",
        "outputId": "4ba70257-439b-4f80-9b5c-f44586232778"
      },
      "outputs": [
        {
          "output_type": "stream",
          "name": "stdout",
          "text": [
            "Model: \"sequential\"\n",
            "_________________________________________________________________\n",
            " Layer (type)                Output Shape              Param #   \n",
            "=================================================================\n",
            " conv2d (Conv2D)             (None, 224, 224, 32)      27776     \n",
            "                                                                 \n",
            " max_pooling2d (MaxPooling2D  (None, 112, 112, 32)     0         \n",
            " )                                                               \n",
            "                                                                 \n",
            " conv2d_1 (Conv2D)           (None, 112, 112, 64)      18496     \n",
            "                                                                 \n",
            " max_pooling2d_1 (MaxPooling  (None, 56, 56, 64)       0         \n",
            " 2D)                                                             \n",
            "                                                                 \n",
            " conv2d_2 (Conv2D)           (None, 56, 56, 96)        55392     \n",
            "                                                                 \n",
            " max_pooling2d_2 (MaxPooling  (None, 28, 28, 96)       0         \n",
            " 2D)                                                             \n",
            "                                                                 \n",
            " conv2d_3 (Conv2D)           (None, 28, 28, 96)        83040     \n",
            "                                                                 \n",
            " max_pooling2d_3 (MaxPooling  (None, 14, 14, 96)       0         \n",
            " 2D)                                                             \n",
            "                                                                 \n",
            " flatten (Flatten)           (None, 18816)             0         \n",
            "                                                                 \n",
            " dense (Dense)               (None, 512)               9634304   \n",
            "                                                                 \n",
            " activation (Activation)     (None, 512)               0         \n",
            "                                                                 \n",
            " dense_1 (Dense)             (None, 10)                5130      \n",
            "                                                                 \n",
            "=================================================================\n",
            "Total params: 9,824,138\n",
            "Trainable params: 9,824,138\n",
            "Non-trainable params: 0\n",
            "_________________________________________________________________\n"
          ]
        }
      ],
      "source": [
        "new_model.summary()"
      ],
      "id": "3d7423d0"
    },
    {
      "cell_type": "markdown",
      "metadata": {
        "id": "7d1684eb"
      },
      "source": [
        "**menampilkan grafik loss**"
      ],
      "id": "7d1684eb"
    },
    {
      "cell_type": "code",
      "execution_count": 43,
      "metadata": {
        "colab": {
          "base_uri": "https://localhost:8080/",
          "height": 317
        },
        "id": "9d6bc748",
        "outputId": "b26f96ca-cc42-4f9e-d272-613969ae2d3a"
      },
      "outputs": [
        {
          "output_type": "display_data",
          "data": {
            "text/plain": [
              "<Figure size 432x288 with 1 Axes>"
            ],
            "image/png": "[encoded data removed]"
          },
          "metadata": {}
        }
      ],
      "source": [
        "plt.plot(History.history['loss'])\n",
        "plt.plot(History.history['val_loss'])\n",
        "plt.title('Model Loss')\n",
        "plt.ylabel('Loss')\n",
        "plt.xlabel('Epochs')\n",
        "plt.legend(['train', 'test'])\n",
        "plt.show()"
      ],
      "id": "9d6bc748"
    },
    {
      "cell_type": "markdown",
      "metadata": {
        "id": "904fa549"
      },
      "source": [
        "**menampilkan grafik accuracy**"
      ],
      "id": "904fa549"
    },
    {
      "cell_type": "code",
      "execution_count": 44,
      "metadata": {
        "colab": {
          "base_uri": "https://localhost:8080/",
          "height": 317
        },
        "id": "75b7087e",
        "outputId": "7a98d0f9-d3f5-4dbd-c336-5b9c17139779"
      },
      "outputs": [
        {
          "output_type": "display_data",
          "data": {
            "text/plain": [
              "<Figure size 432x288 with 1 Axes>"
            ],
            "image/png": "[encoded data removed]"
          },
          "metadata": {}
        }
      ],
      "source": [
        "plt.plot(History.history['accuracy'])\n",
        "plt.plot(History.history['val_accuracy'])\n",
        "plt.title('Model Accuracy')\n",
        "plt.ylabel('Accuracy')\n",
        "plt.xlabel('Epochs')\n",
        "plt.legend(['train', 'test'])\n",
        "plt.show()"
      ],
      "id": "75b7087e"
    },
    {
      "cell_type": "markdown",
      "metadata": {
        "id": "4d2e88e8"
      },
      "source": [
        "**membentuk variabel untuk mendapatkan prediksi**"
      ],
      "id": "4d2e88e8"
    },
    {
      "cell_type": "code",
      "execution_count": 45,
      "metadata": {
        "colab": {
          "base_uri": "https://localhost:8080/"
        },
        "id": "83af41ea",
        "outputId": "b192de95-4496-40a3-e5c0-0d02931ffa95"
      },
      "outputs": [
        {
          "output_type": "stream",
          "name": "stdout",
          "text": [
            "7/7 [==============================] - 0s 44ms/step\n"
          ]
        }
      ],
      "source": [
        "pred=new_model.predict(x_test)\n",
        "pred_digits=np.argmax(pred,axis=1)"
      ],
      "id": "83af41ea"
    },
    {
      "cell_type": "markdown",
      "metadata": {
        "id": "717a6b33"
      },
      "source": [
        "**menyimpan beberapa index yang salah diklasifikasikan**"
      ],
      "id": "717a6b33"
    },
    {
      "cell_type": "code",
      "execution_count": 46,
      "metadata": {
        "id": "c5d17a63"
      },
      "outputs": [],
      "source": [
        "i=0\n",
        "prop_class=[]\n",
        "mis_class=[]\n",
        "\n",
        "for i in range(len(y_test)):\n",
        "    if(np.argmax(y_test[i])==pred_digits[i]):\n",
        "        prop_class.append(i)\n",
        "    if(len(prop_class)==8):\n",
        "        break\n",
        "\n",
        "i=0\n",
        "for i in range(len(y_test)):\n",
        "    if(not np.argmax(y_test[i])==pred_digits[i]):\n",
        "        mis_class.append(i)\n",
        "    if(len(mis_class)==8):\n",
        "        break"
      ],
      "id": "c5d17a63"
    },
    {
      "cell_type": "markdown",
      "metadata": {
        "id": "362c0f14"
      },
      "source": [
        "**memanggil dan test data gambar**"
      ],
      "id": "362c0f14"
    },
    {
      "cell_type": "code",
      "execution_count": 48,
      "metadata": {
        "colab": {
          "base_uri": "https://localhost:8080/",
          "height": 1000
        },
        "id": "36a160a6",
        "outputId": "fdb2f393-b087-41b0-8add-78cc55cfffa6"
      },
      "outputs": [
        {
          "output_type": "display_data",
          "data": {
            "text/plain": [
              "<Figure size 1440x1440 with 8 Axes>"
            ],
            "image/png": "[encoded data removed]"
          },
          "metadata": {}
        }
      ],
      "source": [
        "warnings.filterwarnings('always')\n",
        "warnings.filterwarnings('ignore')\n",
        "\n",
        "count=0\n",
        "fig,ax=plt.subplots(4,2)\n",
        "fig.set_size_inches(20,20)\n",
        "for i in range (4):\n",
        "    for j in range (2):\n",
        "        ax[i,j].imshow(x_test[prop_class[count]])\n",
        "      \n",
        "        count+=1"
      ],
      "id": "36a160a6"
    },
    {
      "cell_type": "code",
      "execution_count": 49,
      "metadata": {
        "colab": {
          "base_uri": "https://localhost:8080/",
          "height": 1000
        },
        "id": "9b9071cc",
        "outputId": "c8955cef-8d81-42f6-83ba-91a229ec23eb"
      },
      "outputs": [
        {
          "output_type": "display_data",
          "data": {
            "text/plain": [
              "<Figure size 1440x1440 with 8 Axes>"
            ],
            "image/png": "[encoded data removed]"
          },
          "metadata": {}
        }
      ],
      "source": [
        "warnings.filterwarnings('always')\n",
        "warnings.filterwarnings('ignore')\n",
        "\n",
        "count=0\n",
        "fig,ax=plt.subplots(4,2)\n",
        "fig.set_size_inches(20,20)\n",
        "for i in range (4):\n",
        "    for j in range (2):\n",
        "        ax[i,j].imshow(x_test[mis_class[count]])\n",
        "        plt.tight_layout()\n",
        "        count+=1"
      ],
      "id": "9b9071cc"
    },
    {
      "cell_type": "code",
      "execution_count": 50,
      "metadata": {
        "colab": {
          "base_uri": "https://localhost:8080/",
          "height": 1000
        },
        "id": "c3b0baed",
        "outputId": "8d6e7fb3-910e-42f6-aedb-64369ab0ee74"
      },
      "outputs": [
        {
          "output_type": "display_data",
          "data": {
            "text/plain": [
              "<Figure size 1440x1440 with 8 Axes>"
            ],
            "image/png": "[encoded data removed]"
          },
          "metadata": {}
        }
      ],
      "source": [
        "warnings.filterwarnings('always')\n",
        "warnings.filterwarnings('ignore')\n",
        "\n",
        "count=0\n",
        "fig,ax=plt.subplots(4,2)\n",
        "fig.set_size_inches(20,20)\n",
        "for i in range (4):\n",
        "    for j in range (2):\n",
        "        ax[i,j].imshow(x_test[prop_class[count]])\n",
        "        ax[i,j].set_title(\"Tanaman Herbal : \"+str(le.inverse_transform([pred_digits[prop_class[count]]])))\n",
        "        plt.tight_layout()\n",
        "        count+=1"
      ],
      "id": "c3b0baed"
    },
    {
      "cell_type": "markdown",
      "metadata": {
        "id": "74c1c5ef"
      },
      "source": [
        "**Memberikan akurasi dan loss ke data model alias**"
      ],
      "id": "74c1c5ef"
    },
    {
      "cell_type": "code",
      "execution_count": 51,
      "metadata": {
        "id": "3a52834a"
      },
      "outputs": [],
      "source": [
        "#new_model.fit(x_train,y_train,epochs=epoch,batch_size=batch,validation_data = (x_test,y_test))"
      ],
      "id": "3a52834a"
    }
  ],
  "metadata": {
    "accelerator": "GPU",
    "colab": {
      "provenance": [],
      "include_colab_link": true
    },
    "gpuClass": "standard",
    "kernelspec": {
      "display_name": "Python 3",
      "language": "python",
      "name": "python3"
    },
    "language_info": {
      "codemirror_mode": {
        "name": "ipython",
        "version": 3
      },
      "file_extension": ".py",
      "mimetype": "text/x-python",
      "name": "python",
      "nbconvert_exporter": "python",
      "pygments_lexer": "ipython3",
      "version": "3.7.12"
    },
    "papermill": {
      "default_parameters": {},
      "duration": 876.236169,
      "end_time": "2022-04-13T02:26:39.734469",
      "environment_variables": {},
      "exception": null,
      "input_path": "__notebook__.ipynb",
      "output_path": "__notebook__.ipynb",
      "parameters": {},
      "start_time": "2022-04-13T02:12:03.498300",
      "version": "2.3.3"
    }
  },
  "nbformat": 4,
  "nbformat_minor": 5
}